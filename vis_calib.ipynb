{
 "cells": [
  {
   "cell_type": "code",
   "execution_count": null,
   "id": "71237649",
   "metadata": {},
   "outputs": [],
   "source": [
    "import os\n",
    "os.environ[\"OMP_NUM_THREADS\"] = \"4\"\n",
    "import yaml\n",
    "import numpy as np\n",
    "import open3d as o3d\n",
    "import cv2\n",
    "import matplotlib\n",
    "import matplotlib.pyplot as plt"
   ]
  },
  {
   "cell_type": "code",
   "execution_count": null,
   "id": "23467992",
   "metadata": {},
   "outputs": [],
   "source": [
    "fast_calib_path = os.path.expanduser(\"~/data-fast/lxc-fast-livo2-02/catkin_ws/src/FAST-Calib\")\n",
    "config_path = os.path.join(fast_calib_path, \"config\", \"qr_params.yaml\")"
   ]
  },
  {
   "cell_type": "code",
   "execution_count": null,
   "id": "15c561dc",
   "metadata": {},
   "outputs": [],
   "source": [
    "with open(config_path, \"r\") as f:\n",
    "    config = yaml.safe_load(f)\n",
    "config[\"output_path\"] = config[\"output_path\"].replace(\"$(find fast_calib)\", fast_calib_path)\n",
    "output_path = config[\"output_path\"]\n",
    "config[\"image_path\"] = config[\"image_path\"].replace(\"$(find fast_calib)\", fast_calib_path)\n",
    "\n",
    "calib_image = cv2.cvtColor(cv2.imread(config[\"image_path\"]), cv2.COLOR_BGR2RGB)\n",
    "K = np.asarray([\n",
    "    [config[\"fx\"], 0, config[\"cx\"]],\n",
    "    [0, config[\"fy\"], config[\"cy\"]],\n",
    "    [0, 0, 1],\n",
    "])\n",
    "D = np.asarray([config[\"k1\"], config[\"k2\"], config[\"p1\"], config[\"p2\"]])\n",
    "calib_image_raw = calib_image\n",
    "calib_image = cv2.undistort(calib_image, K, D, None, K)\n",
    "K, D, config"
   ]
  },
  {
   "cell_type": "code",
   "execution_count": null,
   "id": "18482b01",
   "metadata": {},
   "outputs": [],
   "source": [
    "with open(os.path.expanduser(os.path.join(output_path, \"calib_result.txt\")), \"r\") as f:\n",
    "    calib = yaml.safe_load(f)\n",
    "calib"
   ]
  },
  {
   "cell_type": "code",
   "execution_count": null,
   "id": "c8b8f5ff",
   "metadata": {},
   "outputs": [],
   "source": [
    "pcd = o3d.t.io.read_point_cloud(os.path.join(output_path, \"cloud_input.pcd\"))"
   ]
  },
  {
   "cell_type": "code",
   "execution_count": null,
   "id": "ae15ac6e",
   "metadata": {},
   "outputs": [],
   "source": [
    "import viser.transforms as vt\n",
    "# lidar2imu = np.eye(4)\n",
    "# lidar2imu[:3, -1] = np.asarray([0.011, 0.02329, -0.04412])\n",
    "# imu2lidar = np.linalg.inv(lidar2imu)\n",
    "\n",
    "lidar2camera = np.eye(4)\n",
    "lidar2camera[:3, :3] = np.asarray(calib[\"Rcl\"]).reshape((3, 3))\n",
    "lidar2camera[:3, -1] = np.asarray(calib[\"Pcl\"])\n",
    "\n",
    "# lidar2camera = lidar2camera @ imu2lidar\n",
    "\n",
    "lidar2camera"
   ]
  },
  {
   "cell_type": "code",
   "execution_count": null,
   "id": "b9cf3f44",
   "metadata": {},
   "outputs": [],
   "source": [
    "plt.imshow(calib_image)"
   ]
  },
  {
   "cell_type": "code",
   "execution_count": null,
   "id": "437b9aca",
   "metadata": {},
   "outputs": [],
   "source": [
    "xyzs = pcd.point.positions.cpu().numpy()\n",
    "intensities = pcd.point.intensity.cpu().numpy()\n",
    "# normals = pcd.point.normals.cpu().numpy()"
   ]
  },
  {
   "cell_type": "code",
   "execution_count": null,
   "id": "fc62d92c",
   "metadata": {},
   "outputs": [],
   "source": [
    "projected = np.zeros((calib_image.shape[0], calib_image.shape[1]))\n",
    "xyzs_in_camera = xyzs @ lidar2camera[:3, :3].T + lidar2camera[:3, -1]\n",
    "xyzs_in_pixels = xyzs_in_camera @ K.T\n",
    "xyzs_in_image = xyzs_in_pixels / xyzs_in_pixels[:, -1:]"
   ]
  },
  {
   "cell_type": "code",
   "execution_count": null,
   "id": "9637e9ce",
   "metadata": {},
   "outputs": [],
   "source": [
    "visible_point_mask = np.logical_and(\n",
    "    xyzs_in_camera[:, -1] > 0,\n",
    "    np.logical_and(\n",
    "        np.prod(xyzs_in_image[:, :2] > 0, axis=-1).astype(bool),\n",
    "        np.prod(np.round(xyzs_in_image[:, :2]) < np.asarray(projected.shape[::-1]), axis=-1).astype(bool),\n",
    "    ),\n",
    ")\n",
    "visible_point_mask.sum(), xyzs.shape[0]"
   ]
  },
  {
   "cell_type": "code",
   "execution_count": null,
   "id": "b057a8d7",
   "metadata": {},
   "outputs": [],
   "source": [
    "visible_point_xys = np.round(xyzs_in_image[visible_point_mask, :2]).astype(np.int32)\n",
    "visible_point_colors = intensities[visible_point_mask, 0]\n",
    "visible_point_colors = (visible_point_colors - visible_point_colors.min()) / visible_point_colors.mean()\n",
    "visible_point_colors = np.clip(visible_point_colors, a_min=0., a_max=1.)\n",
    "# visible_point_colors = np.power(visible_point_colors + 1e-4, 2.)"
   ]
  },
  {
   "cell_type": "code",
   "execution_count": null,
   "id": "f7d274d7",
   "metadata": {},
   "outputs": [],
   "source": [
    "projected = np.zeros((calib_image.shape[0], calib_image.shape[1]))\n",
    "image_width = projected.shape[1]\n",
    "image_heigh = projected.shape[0]\n",
    "# for offset in [(0, 0), (-1, 0), (1, 0), (0, 1), (0, -1)]:\n",
    "for offset in [(0, 0), (-1, 0)]:\n",
    "    projected[np.clip(visible_point_xys[:, 1] + offset[1], a_min=0, a_max=image_heigh - 1), np.clip(visible_point_xys[:, 0] + offset[0], a_min=0, a_max=image_width - 1)] = visible_point_colors"
   ]
  },
  {
   "cell_type": "code",
   "execution_count": null,
   "id": "65fc3aa9",
   "metadata": {},
   "outputs": [],
   "source": [
    "colored_projection = (np.asarray(matplotlib.colormaps[\"cividis\"].colors)[(projected * 255).astype(np.int32)] * 255).astype(np.uint8)\n",
    "fused_colored_projection = (0.7 * colored_projection + 0.3 * calib_image).astype(np.uint8)\n",
    "fig, ax = plt.subplots()\n",
    "fig.set_dpi(600)\n",
    "ax.imshow(np.concatenate([colored_projection, calib_image, fused_colored_projection], axis=1))\n",
    "\n",
    "y_lines = range(0, colored_projection.shape[0], colored_projection.shape[0] // 16)\n",
    "colors = plt.rcParams['axes.prop_cycle'].by_key()['color']\n",
    "for idx, y in enumerate(y_lines):\n",
    "    ax.hlines(y, xmin=0, xmax=colored_projection.shape[1] * 3 - 1, color=colors[idx % len(colors)], linewidth=0.3)\n",
    "\n",
    "plt.show()"
   ]
  },
  {
   "cell_type": "code",
   "execution_count": null,
   "id": "d2fed062",
   "metadata": {},
   "outputs": [],
   "source": [
    "colored_projection = (np.asarray(matplotlib.colormaps[\"cividis\"].colors)[(projected * 255).astype(np.int32)] * 255).astype(np.uint8)\n",
    "fig, ax = plt.subplots()\n",
    "fig.set_dpi(300)\n",
    "ax.imshow(np.concatenate([colored_projection, calib_image], axis=0))\n",
    "\n",
    "x_lines = range(0, colored_projection.shape[1], colored_projection.shape[1] // 16)\n",
    "colors = plt.rcParams['axes.prop_cycle'].by_key()['color']\n",
    "for idx, x in enumerate(x_lines):\n",
    "    ax.vlines(x, ymin=0, ymax=(colored_projection.shape[0] * 2) - 1, color=colors[idx % len(colors)], linewidth=0.3)\n",
    "\n",
    "plt.show()"
   ]
  }
 ],
 "metadata": {
  "language_info": {
   "name": "python"
  }
 },
 "nbformat": 4,
 "nbformat_minor": 5
}
